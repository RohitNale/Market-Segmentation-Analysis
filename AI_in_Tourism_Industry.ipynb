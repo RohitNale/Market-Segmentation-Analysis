{
  "nbformat": 4,
  "nbformat_minor": 0,
  "metadata": {
    "colab": {
      "name": "AI_in_Tourism_Industry.ipynb",
      "provenance": [],
      "authorship_tag": "ABX9TyOwAqPqyEjpGV0C0Kt6yw1Y",
      "include_colab_link": true
    },
    "kernelspec": {
      "name": "python3",
      "display_name": "Python 3"
    },
    "language_info": {
      "name": "python"
    }
  },
  "cells": [
    {
      "cell_type": "markdown",
      "metadata": {
        "id": "view-in-github",
        "colab_type": "text"
      },
      "source": [
        "<a href=\"https://colab.research.google.com/github/RohitNale/Market-Segmentation-Analysis/blob/main/AI_in_Tourism_Industry.ipynb\" target=\"_parent\"><img src=\"https://colab.research.google.com/assets/colab-badge.svg\" alt=\"Open In Colab\"/></a>"
      ]
    },
    {
      "cell_type": "code",
      "execution_count": null,
      "metadata": {
        "id": "sqg98OrydDch"
      },
      "outputs": [],
      "source": [
        ""
      ]
    }
  ]
}