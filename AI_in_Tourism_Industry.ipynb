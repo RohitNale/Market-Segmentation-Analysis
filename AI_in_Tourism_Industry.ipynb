{
  "nbformat": 4,
  "nbformat_minor": 0,
  "metadata": {
    "colab": {
      "name": "AI_in_Tourism_Industry.ipynb",
      "provenance": [],
      "include_colab_link": true
    },
    "kernelspec": {
      "name": "python3",
      "display_name": "Python 3"
    },
    "language_info": {
      "name": "python"
    }
  },
  "cells": [
    {
      "cell_type": "markdown",
      "metadata": {
        "id": "view-in-github",
        "colab_type": "text"
      },
      "source": [
        "<a href=\"https://colab.research.google.com/github/RohitNale/Market-Segmentation-Analysis/blob/main/AI_in_Tourism_Industry.ipynb\" target=\"_parent\"><img src=\"https://colab.research.google.com/assets/colab-badge.svg\" alt=\"Open In Colab\"/></a>"
      ]
    },
    {
      "cell_type": "markdown",
      "source": [
        "## **Ticket Booling System**"
      ],
      "metadata": {
        "id": "QdNI_g1AmZct"
      }
    },
    {
      "cell_type": "code",
      "source": [
        "!pip install tk"
      ],
      "metadata": {
        "colab": {
          "base_uri": "https://localhost:8080/"
        },
        "id": "jDi0nzoREoCZ",
        "outputId": "c1761769-dcb1-4e02-a546-5185b8e1c2f1"
      },
      "execution_count": 1,
      "outputs": [
        {
          "output_type": "stream",
          "name": "stdout",
          "text": [
            "Looking in indexes: https://pypi.org/simple, https://us-python.pkg.dev/colab-wheels/public/simple/\n",
            "Collecting tk\n",
            "  Downloading tk-0.1.0-py3-none-any.whl (3.9 kB)\n",
            "Installing collected packages: tk\n",
            "Successfully installed tk-0.1.0\n"
          ]
        }
      ]
    },
    {
      "cell_type": "code",
      "source": [
        "!pip install pyttk"
      ],
      "metadata": {
        "colab": {
          "base_uri": "https://localhost:8080/"
        },
        "id": "ObRx_0EFEneT",
        "outputId": "e7a6fb89-59bc-45c3-e073-0000eea35535"
      },
      "execution_count": 2,
      "outputs": [
        {
          "output_type": "stream",
          "name": "stdout",
          "text": [
            "Looking in indexes: https://pypi.org/simple, https://us-python.pkg.dev/colab-wheels/public/simple/\n",
            "Collecting pyttk\n",
            "  Downloading pyttk-0.3.2.tar.gz (127 kB)\n",
            "\u001b[K     |████████████████████████████████| 127 kB 4.1 MB/s \n",
            "\u001b[?25hBuilding wheels for collected packages: pyttk\n",
            "  Building wheel for pyttk (setup.py) ... \u001b[?25l\u001b[?25hdone\n",
            "  Created wheel for pyttk: filename=pyttk-0.3.2-py3-none-any.whl size=15723 sha256=cc5bac98f53f0233d3f1cdd06bcd183e79e4f273cea1cefb18156fab27d68aee\n",
            "  Stored in directory: /root/.cache/pip/wheels/87/6f/ca/573cd3dc583272bad8474d788fb5271b76783bd7d99729a30f\n",
            "Successfully built pyttk\n",
            "Installing collected packages: pyttk\n",
            "Successfully installed pyttk-0.3.2\n"
          ]
        }
      ]
    },
    {
      "cell_type": "code",
      "source": [
        "from tkinter import ttk"
      ],
      "metadata": {
        "id": "n_km-kAvB-ni"
      },
      "execution_count": 3,
      "outputs": []
    },
    {
      "cell_type": "code",
      "execution_count": 4,
      "metadata": {
        "id": "sqg98OrydDch",
        "colab": {
          "base_uri": "https://localhost:8080/",
          "height": 376
        },
        "outputId": "3b2282e1-d499-4499-cd8b-bd392e582e47"
      },
      "outputs": [
        {
          "output_type": "error",
          "ename": "TclError",
          "evalue": "ignored",
          "traceback": [
            "\u001b[0;31m---------------------------------------------------------------------------\u001b[0m",
            "\u001b[0;31mTclError\u001b[0m                                  Traceback (most recent call last)",
            "\u001b[0;32m<ipython-input-4-3216f0037d17>\u001b[0m in \u001b[0;36m<module>\u001b[0;34m()\u001b[0m\n\u001b[1;32m      9\u001b[0m \u001b[0;32mimport\u001b[0m \u001b[0msqlite3\u001b[0m\u001b[0;34m\u001b[0m\u001b[0;34m\u001b[0m\u001b[0m\n\u001b[1;32m     10\u001b[0m \u001b[0mcon\u001b[0m\u001b[0;34m=\u001b[0m\u001b[0msqlite3\u001b[0m\u001b[0;34m.\u001b[0m\u001b[0mConnection\u001b[0m\u001b[0;34m(\u001b[0m\u001b[0;34m'hrdb'\u001b[0m\u001b[0;34m)\u001b[0m\u001b[0;34m\u001b[0m\u001b[0;34m\u001b[0m\u001b[0m\n\u001b[0;32m---> 11\u001b[0;31m \u001b[0mrootp\u001b[0m\u001b[0;34m=\u001b[0m\u001b[0mTk\u001b[0m\u001b[0;34m(\u001b[0m\u001b[0;34m)\u001b[0m\u001b[0;34m\u001b[0m\u001b[0;34m\u001b[0m\u001b[0m\n\u001b[0m\u001b[1;32m     12\u001b[0m \u001b[0mLabel\u001b[0m\u001b[0;34m(\u001b[0m\u001b[0mrootp\u001b[0m\u001b[0;34m,\u001b[0m\u001b[0mtext\u001b[0m\u001b[0;34m=\u001b[0m\u001b[0;34m\"Simple Airline Booking System\"\u001b[0m\u001b[0;34m,\u001b[0m\u001b[0mfont\u001b[0m\u001b[0;34m=\u001b[0m\u001b[0;34m\"Bold 20\"\u001b[0m\u001b[0;34m)\u001b[0m\u001b[0;34m.\u001b[0m\u001b[0mpack\u001b[0m\u001b[0;34m(\u001b[0m\u001b[0;34m)\u001b[0m\u001b[0;34m\u001b[0m\u001b[0;34m\u001b[0m\u001b[0m\n\u001b[1;32m     13\u001b[0m \u001b[0;32mdef\u001b[0m \u001b[0mfun8\u001b[0m\u001b[0;34m(\u001b[0m\u001b[0;34m)\u001b[0m\u001b[0;34m:\u001b[0m\u001b[0;34m\u001b[0m\u001b[0;34m\u001b[0m\u001b[0m\n",
            "\u001b[0;32m/usr/lib/python3.7/tkinter/__init__.py\u001b[0m in \u001b[0;36m__init__\u001b[0;34m(self, screenName, baseName, className, useTk, sync, use)\u001b[0m\n\u001b[1;32m   2021\u001b[0m                 \u001b[0mbaseName\u001b[0m \u001b[0;34m=\u001b[0m \u001b[0mbaseName\u001b[0m \u001b[0;34m+\u001b[0m \u001b[0mext\u001b[0m\u001b[0;34m\u001b[0m\u001b[0;34m\u001b[0m\u001b[0m\n\u001b[1;32m   2022\u001b[0m         \u001b[0minteractive\u001b[0m \u001b[0;34m=\u001b[0m \u001b[0;36m0\u001b[0m\u001b[0;34m\u001b[0m\u001b[0;34m\u001b[0m\u001b[0m\n\u001b[0;32m-> 2023\u001b[0;31m         \u001b[0mself\u001b[0m\u001b[0;34m.\u001b[0m\u001b[0mtk\u001b[0m \u001b[0;34m=\u001b[0m \u001b[0m_tkinter\u001b[0m\u001b[0;34m.\u001b[0m\u001b[0mcreate\u001b[0m\u001b[0;34m(\u001b[0m\u001b[0mscreenName\u001b[0m\u001b[0;34m,\u001b[0m \u001b[0mbaseName\u001b[0m\u001b[0;34m,\u001b[0m \u001b[0mclassName\u001b[0m\u001b[0;34m,\u001b[0m \u001b[0minteractive\u001b[0m\u001b[0;34m,\u001b[0m \u001b[0mwantobjects\u001b[0m\u001b[0;34m,\u001b[0m \u001b[0museTk\u001b[0m\u001b[0;34m,\u001b[0m \u001b[0msync\u001b[0m\u001b[0;34m,\u001b[0m \u001b[0muse\u001b[0m\u001b[0;34m)\u001b[0m\u001b[0;34m\u001b[0m\u001b[0;34m\u001b[0m\u001b[0m\n\u001b[0m\u001b[1;32m   2024\u001b[0m         \u001b[0;32mif\u001b[0m \u001b[0museTk\u001b[0m\u001b[0;34m:\u001b[0m\u001b[0;34m\u001b[0m\u001b[0;34m\u001b[0m\u001b[0m\n\u001b[1;32m   2025\u001b[0m             \u001b[0mself\u001b[0m\u001b[0;34m.\u001b[0m\u001b[0m_loadtk\u001b[0m\u001b[0;34m(\u001b[0m\u001b[0;34m)\u001b[0m\u001b[0;34m\u001b[0m\u001b[0;34m\u001b[0m\u001b[0m\n",
            "\u001b[0;31mTclError\u001b[0m: no display name and no $DISPLAY environment variable"
          ]
        }
      ],
      "source": [
        "# from Tkinter import *\n",
        "# import tkMessageBox\n",
        "# from ttk import *\n",
        "\n",
        "from tkinter import *\n",
        "from tkinter import messagebox\n",
        "from ttk import *\n",
        "\n",
        "import sqlite3\n",
        "con=sqlite3.Connection('hrdb')\n",
        "rootp=Tk()\n",
        "Label(rootp,text=\"Simple Airline Booking System\",font=\"Bold 20\").pack()\n",
        "def fun8():\n",
        "    rootp.destroy()\n",
        "    root2=Tk()\n",
        "    root2.title(\"Welcome,Customer To our Cancellation System\")\n",
        "    Label(root2,text=\"Enter last 4 digit of your Citizenship Number\").grid(row=0,column=0)\n",
        "    e1=Entry(root2)\n",
        "    e1.grid(row=0,column=1)\n",
        "    Label(root2,text=\"Choose your class\").grid(row=1,column=0)\n",
        "    w2=Combobox(root2,height=5,width=15,values=[\"BusinessClass\",\"Economic\"])\n",
        "    w2.grid(row=1,column=1)\n",
        "    Label(root2,text=\"select boarding\").grid(row=2,column=0)\n",
        "    w3=Combobox(root2,height=5,width=15,values=[\"Delhi\",\"Mumbai\",\"Hyderabad\",\"Kolkatta\"])\n",
        "    w3.grid(row=2,column=1)\n",
        "    def fun2():\n",
        "        d=e1.get()\n",
        "        b=w2.get()\n",
        "        c=w3.get()\n",
        "        cur=con.cursor()\n",
        "        x=str(d)\n",
        "        y=str(c)\n",
        "        con.commit()\n",
        "        if d=='' or b=='' or c=='':\n",
        "             tkMessageBox.showerror(\"Oops\",\"You can't Enter the leave any field empty\")\n",
        "        else:     \n",
        "             if b==\"economic\":\n",
        "                cur.execute(\"delete from economic2 where adno=(?) and boarding=(?)\",(d,b,))\n",
        "                cur.execute(\"select * from economic2\")\n",
        "                tkMessageBox.showinfo(\"your reservation is cancelled\",cur.fetchall())\n",
        "             else:\n",
        "                    cur.execute(\"delete from common2 where adno=x and boarding=y\")\n",
        "                    cur.execute(\"select * from common2\")\n",
        "        \n",
        "                    \n",
        "            \n",
        "    Bc=Button(root2,text=\"Cancel Reservation\",command=fun2).grid(row=4,column=0)\n",
        "    root2.mainloop()\n",
        "def fun9():\n",
        "    rootp.destroy()\n",
        "    root4=Tk()\n",
        "    root4.title(\"Welcome,Search flights\")\n",
        "    Label(root4,text=\"Enter Boarding\").grid(row=0,column=0)\n",
        "    w1=Combobox(root4,height=5,width=15,values=[\"Delhi\",\"Mumbai\",\"Hyderabad\",\"Kolkatta\"])\n",
        "    w1.grid(row=0,column=1)\n",
        "    Label(root4,text=\"select destination\").grid(row=1,column=0)\n",
        "    w2=Combobox(root4,height=5,width=15,values=[\"Delhi\",\"Mumbai\",\"Hyderabad\",\"Kolkatta\"])\n",
        "    w2.grid(row=1,column=1)\n",
        "    Label(root4,text=\"Choose day of travel\").grid(row=2,column=0)\n",
        "    w3=Combobox(root4,text=\"choose day\",height=5,width=15,values=[\"sunday\",\"monday\",\"tuesday\",\"wednesday\",\"thursday\",\"friday\",\"saturday\"])\n",
        "    w3.grid(row=2,column=1)\n",
        "    def fun10():\n",
        "        a=w1.get()\n",
        "        b=w2.get()\n",
        "        c=w3.get()\n",
        "        cur=con.cursor()\n",
        "        if a=='' or b=='' or c=='':\n",
        "            tkMessageBox.showerror(\"Error\",\"Cant leave any field empty\")\n",
        "           \n",
        "                \n",
        "        else:\n",
        "             if a!=b:\n",
        "                 #cur.execute(\"create table eco(boarding char(20),destination char(20),day char(20),time number,class char(10),fare number)\")\n",
        "                 cur.execute(\"insert into eco values('Delhi','Mumbai','Sunday',1.00,'Economic',2500)\")\n",
        "                 cur.execute(\"insert into eco values('Delhi','Hyderabad','Monday',1.00,'Common',4000)\")\n",
        "                 cur.execute(\"insert into eco values('Delhi','Kolkatta','Tuesday',1.00,'Economic',5500)\")\n",
        "                 cur.execute(\"insert into eco values('Mumbai','Delhi','Wednesday',1.00,'Economic',3500)\")\n",
        "                 cur.execute(\"insert into eco values('Mumbai','Delhi','Wednesday',7.00,'Common',2500)\")\n",
        "                 cur.execute(\"select * from eco where boarding=? and destination=? and day=?\",(a,b,c,))\n",
        "                 con.commit()\n",
        "                 e=cur.fetchall()\n",
        "                 tkMessageBox.showinfo(\"flights availble are\",e)\n",
        "             else:\n",
        "                tkMessageBox.showerror(\"Oops\",\"boarding and destination can't me same\")\n",
        "        \n",
        "    Bs=Button(root4,text=\"search\",command=fun10).grid(row=3,column=0)\n",
        "    root4.mainloop()\n",
        "def fun5():\n",
        "    rootp.destroy()\n",
        "    root=Tk()\n",
        "    root.title('Flight search And booking')\n",
        "    Label(root,text=\"Enter Boarding\").grid(row=1,column=0)\n",
        "#e1=Entry(root,width=20,bd=4,justify=\"right\")\n",
        "#e1.grid(row=1,column=1)\n",
        "    w=Combobox(root,height=5,width=15,values=[\"Hyderabad\",\"Washington\",\"Delhi\",\"Kolkatta\"])\n",
        "    w.grid(row=1,column=1)\n",
        "    Label(root,text='Enter Destination').grid(row=2,column=0)\n",
        "#e2=Entry(root,width=20,justify='right')\n",
        "#e2.grid(row=2,column=1)\n",
        "    w1=Combobox(root,height=5,width=15,values=[\"Hyderabad\",\"Washington\",\"Delhi\",\"Kolkatta\"])\n",
        "    w1.grid(row=2,column=1)\n",
        "#e3=Entry(root,width=20,justify='right')\n",
        "#e3.grid(row=3,column=1)\n",
        "    Label(root,text='Enter last 4 digit of your Citizenship Number').grid(row=3,column=0)\n",
        "    e=Entry(root,width=20)\n",
        "    e.grid(row=3,column=1)\n",
        "    w2=Combobox(root,text='BusinessClass',height=5,width=15,values=[\"BusinessClass\",\"Economic\"])\n",
        "    w2.grid(row=4,column=1)\n",
        "    Label(root,text='Choose Class').grid(row=4,column=0)\n",
        "    Label(root,text=\"Choose day of travel\").grid(row=5,column=0)\n",
        "    w3=Combobox(root,text=\"choose day\",height=5,width=15,values=[\"sunday\",\"monday\",\"tuesday\",\"wednesday\",\"thursday\",\"friday\",\"saturday\"])\n",
        "    w3.grid(row=5,column=1)\n",
        "    Label(root,text=\"choose time of your flight\").grid(row=6,column=0)\n",
        "    w4=Combobox(root,height=5,width=15,values=[\"1:00 AM\",\"7:00 AM\",\"1:00 PM\",\"4:00 PM\",\"9:00 PM\"])\n",
        "    w4.grid(row=6,column=1)\n",
        "    def fun():\n",
        "        a=w.get()\n",
        "        b=w1.get()\n",
        "        c=e.get()\n",
        "        d=w2.get()\n",
        "        f=w3.get()\n",
        "        g=w4.get()\n",
        "        x=(a,b,c,f,g)\n",
        "        cur=con.cursor()\n",
        "        \n",
        "        if a=='' or b=='' or c=='' or d=='' or f=='' or g=='':\n",
        "            tkMessageBox.showerror(\"OOPS\",\"you can't leave any field empty\")\n",
        "        else :\n",
        "            if d=='Economic':\n",
        "                \n",
        "                if a!=b:\n",
        "                    #cur.execute(\"create table economic2(boarding char(20),destination char(20),adno number,day char,time number)\")\n",
        "                    cur.execute(\"insert into economic2 values(?,?,?,?,?)\",x)\n",
        "                    tkMessageBox.showinfo(\"congrats\",\"your seat has been reserved\")\n",
        "                    con.commit()\n",
        "                    cur.execute(\"select * from economic2 where adno=(?)\",(c,))\n",
        "                    tkMessageBox.showinfo(\"records\",cur.fetchall())\n",
        "                else:\n",
        "                    tkMessageBox.showerror(\"Error\",\"you can't choose same city\")\n",
        "            if d=='BusinessClass':\n",
        "                #cur.execute(\"create table common2(boarding char(20),destination char(20),adno number,day char,time number)\")\n",
        "                if a!=b:\n",
        "                    cur.execute(\"insert into common2 values(?,?,?,?,?)\",x)\n",
        "                    tkMessageBox.showinfo(\"congrats\",\"your seat has been reserved\")\n",
        "                    con.commit()\n",
        "                    cur.execute(\"select * from common2 where adno=(?)\",(c,))\n",
        "                    tkMessageBox.showinfo(\"records\",cur.fetchall())\n",
        "                else :\n",
        "                    tkMessageBox.showerror(\"Error\",\"you can't choose same city\")\n",
        "    Bi=Button(root,text=\"Insert\",command=fun).grid(row=7,column=1)\n",
        "#Bo=Button(root,text=\"See Flights\",command=dis).grid(row=7,column=1)\n",
        "#Bf=Button(root,text='Set fair range',command=fun1).grid(row=7,column=2)\n",
        "    root.mainloop()\n",
        "    \n",
        "B1=Button(rootp,text=\"Cancel Booking\",command=fun8).pack()\n",
        "B2=Button(rootp,text=\"Search Flight\",command=fun9).pack()\n",
        "B3=Button(rootp,text=\"Book Flight\",command=fun5).pack()\n",
        "#B2=Button(rootp,text=\"Cancel Booking\",height=4,width=35,font=\"Bold\",bg=\"gray\").pack()\n",
        "#B3=Button(rootp,text=\"See flights\",height=4,width=35,font=\"Bold\",bg=\"gray\").pack()\n",
        "\n",
        "rootp.mainloop()"
      ]
    },
    {
      "cell_type": "markdown",
      "source": [
        "## Recommendation System (Based on Google Review)"
      ],
      "metadata": {
        "id": "TNCGw1b9moFM"
      }
    },
    {
      "cell_type": "code",
      "source": [
        "import seaborn as sns\n",
        "from sklearn.preprocessing import StandardScaler\n",
        "from sklearn.cluster import KMeans\n",
        "from sklearn.metrics import silhouette_samples, silhouette_score\n",
        "from sklearn.decomposition import PCA\n",
        "import matplotlib.ticker as ticker\n",
        "import numpy as np\n",
        "import pandas as pd\n",
        "from sklearn.preprocessing import MinMaxScaler\n",
        "from sklearn.cluster import KMeans\n",
        "\n",
        "categories = \"\"\"user\n",
        "churches\n",
        "resorts\n",
        "beaches\n",
        "parks\n",
        "theatres\n",
        "museums\n",
        "malls\n",
        "zoo\n",
        "restaurants\n",
        "pubs/bars\n",
        "local services\n",
        "burger/pizza shops\n",
        "hotels/other lodgings\n",
        "juice bars\n",
        "art galleries\n",
        "dance clubs\n",
        "swimming pools\n",
        "gyms\n",
        "bakeries\n",
        "beauty & spas\n",
        "cafes\n",
        "view points\n",
        "monuments\n",
        "gardens\"\"\"\n",
        "columns_list = categories.split(\"\\n\")\n",
        "df = pd.read_csv('Google Review Rating.csv',header=0,names = columns_list,index_col=False)\n",
        "df = df.set_index('user')\n",
        "df.head()"
      ],
      "metadata": {
        "id": "qO9K-_XQoxzy"
      },
      "execution_count": null,
      "outputs": []
    },
    {
      "cell_type": "code",
      "source": [
        "df.describe()"
      ],
      "metadata": {
        "id": "b2T2DIBHBDFY"
      },
      "execution_count": null,
      "outputs": []
    },
    {
      "cell_type": "code",
      "source": [
        "df.info()"
      ],
      "metadata": {
        "id": "5AKBnnwxCghx"
      },
      "execution_count": null,
      "outputs": []
    },
    {
      "cell_type": "code",
      "source": [
        "# All attributes should be of the float64 datatype, and the \"local services\" attribute is incorrect. Because they're of the object type. \n",
        "# It might be error while loading file, I'll simply cast datatype to float\n",
        "df['local services'] = pd.to_numeric(df['local services'], errors='coerce')"
      ],
      "metadata": {
        "id": "FbhgXto9ChYn"
      },
      "execution_count": null,
      "outputs": []
    },
    {
      "cell_type": "code",
      "source": [
        "# Total missing value in dataset\n",
        "display(df.isnull().sum())\n"
      ],
      "metadata": {
        "id": "WjXA5fP4C8zp"
      },
      "execution_count": null,
      "outputs": []
    },
    {
      "cell_type": "code",
      "source": [
        "# removing the one value that is missing from the garden column\n",
        "df = df.dropna()\n",
        "df['gardens'].replace(np.nan,df['gardens'].mean(),inplace=True)"
      ],
      "metadata": {
        "id": "Ax3FZYj-DE8_"
      },
      "execution_count": null,
      "outputs": []
    },
    {
      "cell_type": "code",
      "source": [
        "# No null value is present\n",
        "df.isnull().sum()"
      ],
      "metadata": {
        "id": "ki204HwnDmEH"
      },
      "execution_count": null,
      "outputs": []
    },
    {
      "cell_type": "code",
      "source": [
        "df['local services'][df['local services'].index == 2712]"
      ],
      "metadata": {
        "id": "QGpZ1bnpFExI"
      },
      "execution_count": null,
      "outputs": []
    },
    {
      "cell_type": "code",
      "source": [
        "df['local services'] = df['local services'].replace('2\\t2.',2)"
      ],
      "metadata": {
        "id": "z7659ZEqFEzy"
      },
      "execution_count": null,
      "outputs": []
    },
    {
      "cell_type": "code",
      "source": [
        "df['local services'] = pd.to_numeric(df['local services'])"
      ],
      "metadata": {
        "id": "EajtnLQsFE2Y"
      },
      "execution_count": null,
      "outputs": []
    },
    {
      "cell_type": "code",
      "source": [
        "df.dtypes"
      ],
      "metadata": {
        "id": "Xqa71gn4Fgum"
      },
      "execution_count": null,
      "outputs": []
    },
    {
      "cell_type": "code",
      "source": [
        ""
      ],
      "metadata": {
        "id": "cK8zmr8ZFg75"
      },
      "execution_count": null,
      "outputs": []
    },
    {
      "cell_type": "code",
      "source": [
        "# Box plot of different ratings\n",
        "fig, ax = plt.subplots(nrows = 8, ncols = 3, figsize=(15, 6))\n",
        "\n",
        "plt.tight_layout()\n",
        "\n",
        "for variable, subplot in zip(df.columns, ax.flatten()):\n",
        "    \n",
        " \n",
        "    sns.boxplot(df[variable], ax = subplot)\n",
        "\n",
        "# display the plot\n",
        "plt.show()"
      ],
      "metadata": {
        "id": "-CrmQqjSDsm2"
      },
      "execution_count": null,
      "outputs": []
    },
    {
      "cell_type": "code",
      "source": [
        "# Bar plot based on number of ratings\n",
        "df_popularity_table = pd.DataFrame(df.mean(),columns=['Average Rating'])\n",
        "df_popularity_table['TotalRatingCount'] = df.astype(bool).sum(axis=0).values\n",
        "bar = df_popularity_table.sort_values(by=['TotalRatingCount'],ascending=True)\n",
        "plt.figure(figsize=(15,8))\n",
        "sns.barplot(bar.index,bar.TotalRatingCount,color= 'red',orient='v')\n",
        "plt.xlabel('Number of Rating')\n",
        "plt.ylabel('Total Rating Count')\n",
        "plt.xticks(rotation=90)\n",
        "plt.show()"
      ],
      "metadata": {
        "id": "-dgh6cRYECWn"
      },
      "execution_count": null,
      "outputs": []
    },
    {
      "cell_type": "code",
      "source": [
        "# average rating bar plot\n",
        "plt.figure(figsize=(15,8))\n",
        "plt.barh(bar.index, bar['Average Rating'],color = 'r')\n",
        "plt.xlabel('Average Rating')"
      ],
      "metadata": {
        "id": "mZupriR_EsTf"
      },
      "execution_count": null,
      "outputs": []
    },
    {
      "cell_type": "code",
      "source": [
        "# Overall Rating Distribution\n",
        "df_transform = pd.melt(df,value_vars=['churches', 'resorts', 'beaches', 'parks', 'theatres', 'museums', 'malls', 'zoo', 'restaurants', 'pubs/bars', 'local services', 'burger/pizza shops', 'hotels/other lodgings', 'juice bars', 'art galleries', 'dance clubs', 'swimming pools', 'gyms', 'bakeries', 'beauty & spas', 'cafes', 'view points', 'monuments', 'gardens'])\n",
        "\n",
        "fig = plt.figure(figsize = (15,7),dpi = 150)\n",
        "g = sns.violinplot(x='variable',y='value',data=df_transform,palette = 'Set1')\n",
        "g.set_xticklabels(g.get_xticklabels(),rotation=90);\n",
        "g.set_title(f'Overall Rating Distribution',y=1.05,fontsize=20)\n",
        "g.set_xlabel(\"\")\n",
        "g.set_ylabel(\"Rating\",labelpad = 20)\n",
        "fig.tight_layout(pad = 0.5)"
      ],
      "metadata": {
        "id": "sEon58bAHN84"
      },
      "execution_count": null,
      "outputs": []
    },
    {
      "cell_type": "code",
      "source": [
        "#Scaled Data\n",
        "df_scaled = StandardScaler().fit_transform(df)\n",
        "df_PCA_scaled = pca.fit_transform(df_scaled)"
      ],
      "metadata": {
        "id": "IIrapeLgRiGQ"
      },
      "execution_count": null,
      "outputs": []
    },
    {
      "cell_type": "code",
      "source": [
        "mms = MinMaxScaler()\n",
        "mms.fit(df_PCA_scaled)\n",
        "data_transformed = mms.transform(df_PCA_scaled)"
      ],
      "metadata": {
        "id": "9Lfl30j9QBXe"
      },
      "execution_count": null,
      "outputs": []
    },
    {
      "cell_type": "code",
      "source": [
        "Sum_of_squared_distances = []\n",
        "K = range(1,15)\n",
        "for k in K:\n",
        "    km = KMeans(n_clusters=k)\n",
        "    km = km.fit(data_transformed)\n",
        "    Sum_of_squared_distances.append(km.inertia_)"
      ],
      "metadata": {
        "id": "cYeqRVo1QPNs"
      },
      "execution_count": null,
      "outputs": []
    },
    {
      "cell_type": "code",
      "source": [
        "plt.plot(K, Sum_of_squared_distances, 'bx-')\n",
        "plt.xlabel('k')\n",
        "plt.ylabel('Sum_of_squared_distances')\n",
        "plt.title('Elbow Method For Optimal k - PCA Scaled')\n",
        "plt.show()"
      ],
      "metadata": {
        "id": "JT7aCcy7Q-Z2"
      },
      "execution_count": null,
      "outputs": []
    },
    {
      "cell_type": "code",
      "source": [
        ""
      ],
      "metadata": {
        "id": "WlQwqThLSIL6"
      },
      "execution_count": null,
      "outputs": []
    },
    {
      "cell_type": "markdown",
      "source": [
        "PCA Scaled K-means Clustering"
      ],
      "metadata": {
        "id": "x0tfhjx_SI4n"
      }
    },
    {
      "cell_type": "code",
      "source": [
        "pca = PCA(n_components = 2,random_state=42)\n",
        "df_PCA_scaled = pca.fit_transform(df_scaled)\n",
        "\n",
        "model = KMeans(n_clusters=4,random_state=42)\n",
        "model.fit(df_PCA_scaled)\n",
        "cluster = model.labels_"
      ],
      "metadata": {
        "id": "aVbWoQkuRGRC"
      },
      "execution_count": null,
      "outputs": []
    },
    {
      "cell_type": "code",
      "source": [
        "coeff = np.transpose(pca.components_[0:2, :])\n",
        "n = coeff.shape[0]\n",
        "labels = list(df.columns)\n",
        "\n",
        "\n",
        "xs = df_PCA_scaled[:,0]\n",
        "ys = df_PCA_scaled[:,1]\n",
        "scalex = 1.0/(xs.max() - xs.min())\n",
        "scaley = 1.0/(ys.max() - ys.min())\n",
        "\n",
        "fig = plt.figure(figsize=(15,10))\n",
        "\n",
        "#scatter plot of each data point\n",
        "g = sns.scatterplot(xs * scalex,ys * scaley,hue=cluster,palette='Set1',alpha=0.8)\n",
        "\n",
        "#add cluster centroid\n",
        "plt.scatter(x=model.cluster_centers_[:,0]*scalex, y=model.cluster_centers_[:,1]*scaley, color='r',s=100,marker='X')\n",
        "\n",
        "#add EigenVector representing how each attraction categories related to PC1 and PC2\n",
        "for i in range(n):\n",
        "        plt.arrow(0, 0, coeff[i,0], coeff[i,1],color = 'g',alpha = 0.5)\n",
        "        plt.text(coeff[i,0]* 1.15, coeff[i,1] * 1.15, labels[i], color = 'b', ha = 'center', va = 'center')\n",
        "        \n",
        "        \n",
        "g.set_xlabel(\"PC{}\".format(1))\n",
        "g.set_ylabel(\"PC{}\".format(2))\n",
        "g.set_title('Result of K-Means clustering',y=1.05, fontsize=20);\n"
      ],
      "metadata": {
        "id": "OqByMSaXRH1U"
      },
      "execution_count": null,
      "outputs": []
    },
    {
      "cell_type": "code",
      "source": [
        "df['cluster'] = model.labels_\n",
        "df_long = pd.melt(df, \"cluster\", var_name=\"categories\")\n",
        "\n",
        "fig = plt.figure(figsize = (20,10))\n",
        "for i in range(len(df_long.cluster.unique())):\n",
        "    plt.subplot(1,len(df_long.cluster.unique()),i+1)\n",
        "    g = sns.barplot(y='categories',x='value',data=df_long[df_long['cluster']==i],palette='Set3',ci=None,estimator=np.median)\n",
        "#     g.set_xticklabels(g.get_xticklabels(),rotation=90);\n",
        "    g.set_title(f'Review distribution of Cluster#{i}',y=1.02,fontsize=20)\n",
        "#     g.set_xlabel(\"\")\n",
        "    g.set_ylabel('Categories')\n",
        "    g.set_xlim(0,5)\n",
        "fig.tight_layout(pad=0.5)\n",
        "\n"
      ],
      "metadata": {
        "id": "Z3ac-f2zSTqs"
      },
      "execution_count": null,
      "outputs": []
    },
    {
      "cell_type": "markdown",
      "source": [
        "# **TOURIST SPOTS RECOMMENDING SYSTEM**"
      ],
      "metadata": {
        "id": "TbF7zzT5ZnbE"
      }
    },
    {
      "cell_type": "code",
      "source": [
        "import seaborn as sns\n",
        "from sklearn.preprocessing import StandardScaler\n",
        "from sklearn.cluster import KMeans\n",
        "from sklearn.metrics import silhouette_samples, silhouette_score\n",
        "from sklearn.decomposition import PCA\n",
        "import matplotlib.ticker as ticker\n",
        "import numpy as np\n",
        "import pandas as pd\n",
        "from sklearn.preprocessing import MinMaxScaler\n",
        "from sklearn.cluster import KMeans\n",
        "\n",
        "categories = \"\"\"user\n",
        "churches\n",
        "resorts\n",
        "beaches\n",
        "parks\n",
        "theatres\n",
        "museums\n",
        "malls\n",
        "zoo\n",
        "restaurants\n",
        "pubs/bars\n",
        "local services\n",
        "burger/pizza shops\n",
        "hotels/other lodgings\n",
        "juice bars\n",
        "art galleries\n",
        "dance clubs\n",
        "swimming pools\n",
        "gyms\n",
        "bakeries\n",
        "beauty & spas\n",
        "cafes\n",
        "view points\n",
        "monuments\n",
        "gardens\"\"\"\n",
        "columns_list = categories.split(\"\\n\")\n",
        "df = pd.read_csv('/content/google_review_ratings.csv',header=0,names = columns_list,index_col=False)\n",
        "df = df.set_index('user')"
      ],
      "metadata": {
        "id": "vh1CgwboTdoN"
      },
      "execution_count": null,
      "outputs": []
    },
    {
      "cell_type": "code",
      "source": [
        "df['local services'] = pd.to_numeric(df['local services'], errors='coerce')\n",
        "df = df.dropna()\n",
        "df['gardens'].replace(np.nan,df['gardens'].mean(),inplace=True)\n",
        "df['local services'][df['local services'].index == 2712]\n",
        "df['local services'] = df['local services'].replace('2\\t2.',2)\n",
        "df['local services'] = pd.to_numeric(df['local services'])"
      ],
      "metadata": {
        "id": "HHOAS87WYIno"
      },
      "execution_count": null,
      "outputs": []
    },
    {
      "cell_type": "code",
      "source": [
        "#Scaled Data\n",
        "df_scaled = StandardScaler().fit_transform(df)\n",
        "model1 = KMeans(n_clusters=4,random_state=42)\n",
        "model1.fit(df_scaled)\n",
        "cluster = model1.labels_"
      ],
      "metadata": {
        "id": "CazIlWy0YaRM"
      },
      "execution_count": null,
      "outputs": []
    },
    {
      "cell_type": "code",
      "source": [
        "print(\"Please fill the survey form\")\n",
        "print(\"\\n\")\n",
        "church = float(input(\"Please povide your ratings for churches on a scale of 0 to 5 : \\n\"))\n",
        "resort = float(input(\"Please povide your ratings for resorts on a scale of 0 to 5 : \\n\"))\n",
        "beach = float(input(\"Please povide your ratings for beach on a scale of 0 to 5 : \\n\"))\n",
        "park = float(input(\"Please povide your ratings for parks on a scale of 0 to 5 : \\n\"))\n",
        "theatre = float(input(\"Please povide your ratings for theatres on a scale of 0 to 5 : \\n\"))\n",
        "museum = float(input(\"Please povide your ratings for museum on a scale of 0 to 5 : \\n\"))\n",
        "mall = float(input(\"Please povide your ratings for malls on a scale of 0 to 5 : \\n\"))\n",
        "zoo = float(input(\"Please povide your ratings for zoos on a scale of 0 to 5 : \\n\"))\n",
        "restaurant = float(input(\"Please povide your ratings for restaurants on a scale of 0 to 5 : \\n\"))\n",
        "pub = float(input(\"Please povide your ratings for pubs/bars on a scale of 0 to 5 : \\n\"))\n",
        "local_services = float(input(\"Please povide your ratings for local services on a scale of 0 to 5 : \\n\"))\n",
        "pizzas = float(input(\"Please povide your ratings for pizzas/burgers on a scale of 0 to 5 : \\n\"))\n",
        "hotels = float(input(\"Please povide your ratings for hotels on a scale of 0 to 5 : \\n\"))\n",
        "juice = float(input(\"Please povide your ratings for juice bars on a scale of 0 to 5 : \\n\"))\n",
        "art_gallary = float(input(\"Please povide your ratings for art galleries on a scale of 0 to 5 : \\n\"))\n",
        "dance_club = float(input(\"Please povide your ratings for dance clubs on a scale of 0 to 5 : \\n\"))\n",
        "pool = float(input(\"Please povide your ratings for swimming pool on a scale of 0 to 5 : \\n\"))\n",
        "gym = float(input(\"Please povide your ratings for gym on a scale of 0 to 5 : \\n\"))\n",
        "bakery = float(input(\"Please povide your ratings for bakeries on a scale of 0 to 5 : \\n\"))\n",
        "spa = float(input(\"Please povide your ratings for spa on a scale of 0 to 5 : \\n\"))\n",
        "cafe = float(input(\"Please povide your ratings for cafe on a scale of 0 to 5 : \\n\"))\n",
        "view_point = float(input(\"Please povide your ratings for view points on a scale of 0 to 5 : \\n\"))\n",
        "monument = float(input(\"Please povide your ratings for monuments on a scale of 0 to 5 : \\n\"))\n",
        "garden = float(input(\"Please povide your ratings for gardens on a scale of 0 to 5 : \\n\"))"
      ],
      "metadata": {
        "id": "V2rwlQZ1YlpJ"
      },
      "execution_count": null,
      "outputs": []
    },
    {
      "cell_type": "markdown",
      "source": [
        "The recommandation system is fed with tourist spots details of top 5 tourism states of India"
      ],
      "metadata": {
        "id": "ir5td2hFaNsE"
      }
    },
    {
      "cell_type": "code",
      "source": [
        "district = int(input(\"Please select the desired state : \\n 1.Maharashta \\n 2.Tamil Nadu \\n 3.Uttar pradesh \\n 4.Delhi \\n 5.Rajasthan \\n\"))"
      ],
      "metadata": {
        "id": "pNDwa7mkZCmD"
      },
      "execution_count": null,
      "outputs": []
    },
    {
      "cell_type": "code",
      "source": [
        "a = [church , resort , beach , park , theatre , museum , mall , zoo , restaurant , pub , local_services , pizzas , hotels , juice , art_gallary , dance_club , pool , gym , bakery , spa , cafe , view_point , monument , garden]\n",
        "a1 = np.asarray(a)\n",
        "a2 = pd.DataFrame(a)\n",
        "df_scaled1 = StandardScaler().fit_transform(a2)\n",
        "y = np.concatenate([np.array(i) for i in df_scaled1])\n",
        "y1 = y.reshape(1,-1)\n"
      ],
      "metadata": {
        "id": "6gmP7ixRZIDh"
      },
      "execution_count": null,
      "outputs": []
    },
    {
      "cell_type": "code",
      "source": [
        "prediction = model1.predict(y1)"
      ],
      "metadata": {
        "id": "EwRJ2YAVZX3I"
      },
      "execution_count": null,
      "outputs": []
    },
    {
      "cell_type": "code",
      "source": [
        "if district == 1:\n",
        "  if prediction[0] == 0 :\n",
        "    print(\" As soon as you land you can check in The Oberoi Hotel at Mumbai.\\n You can enjoy facilities like gyms, swimming pool and spa available at your hotel.\\n You can then visit the Basilica of Our Lady of the Mount church. \\n You can try the Berry Blast at Garde Manger Cafe. In the evening, you can a have a visit to The Hanging Gardens.\")\n",
        "  elif prediction[0] == 1 :\n",
        "    print(\"Once you land in Mumbai, you can check in at The Oberoi Hotel.\\n You can have a visit to the famous Jehangir Art Gallery.\\n You can enjoy the best Italian pizzas at Celini. \\n You can beat the heat by enjoying juice at Haji Ali juice bar.\")\n",
        "  elif prediction[0] == 2:\n",
        "    print(\"You can stay at the JW Marriot Resort for your entire trip. \\n You can have a look at the Chhatrapati Shivaji Maharaj Vastu Sangrahalaya. \\n You can then spend some quality time at The Hanging Gardens and The Kamala Nehru Park. \\n In the evening, you can enjoy the sunset at the Juhu beach\")\n",
        "  elif prediction[0] == 3:\n",
        "    print(\"You can stay at Al Shifa residency duing your stay at Mumbai. \\n You can visit the famous VeerMata Jigabai Bhonsale Zoo. \\n After that you can do some quality shopping at the Phoenix Marketcity mall.\\n Mumbai is an excellent destination to enjoy your night life. You can have a drink at the Lord of the Drinks bar.\")\n",
        "elif district == 2:\n",
        "  if prediction[0] == 0 :\n",
        "    print(\" As soon as you land you can check in The ITC Grande Chola Hotel at Chennai.\\n You can enjoy facilities like gyms, swimming pool and spa available at your hotel.\\n You can then visit the famous Santhome church. \\n You can try Italian and Continental cuisines at Wild Garden Cafe. In the evening, you can a have a visit to The Semmozhi Poongaa.\")\n",
        "  elif prediction[0] == 1 :\n",
        "    print(\"Once you land in Chennai, you can check in at The ITC Grande Chola Hotel.\\n You can have a visit to the famous Focus Art Gallery.\\n You can enjoy the best Italian pizzas at Tuscana pizzeria. \\n You can beat the heat by enjoying juice at Madhu Shri Amudham juice bar.\")\n",
        "  elif prediction[0] == 2:\n",
        "    print(\"You can stay at the Radisson Blu Resort for your entire trip. \\n In the morning, you can enjoy the sunrise at the Mahabalipuram beach. \\n You can have a look at the Government Museum. \\n You can then spend some quality time at The Semmozhi Poongaa and The Guindy National Park. \\n You can also watch a movie with your family at the Sathyam Cinemas\")\n",
        "  elif prediction[0] == 3:\n",
        "    print(\"You can stay at Kalyan Grand Hotel duing your stay at Mumbai. \\n You can visit the famous Vandalur Zoo. \\n After that you can do some quality shopping at the Phoenix Marketcity mall.\\n Chennai is a good destination to enjoy your night life. You can have a drink at the Pasha.\")\n",
        "elif district == 3:\n",
        "  if prediction[0] == 0 :\n",
        "    print(\" As soon as you land you can check in The Piccadilly Hotel at Lucknow.\\n You can enjoy facilities like gyms, swimming pool and spa available at your hotel.\\n You can visit the St. Joseph’s Cathedral in Lucknow. \\n You can try the Non-Veg Mezze Platter at Turquoise Cottage Cafe. In the evening, you can a have a visit to The Eco Garden.\")\n",
        "  elif prediction[0] == 1 :\n",
        "    print(\"Once you land in Lucknow, you can check in at The Piccadilly Hotel.\\n You can have a visit to the famous Kala Srot Art Gallery.\\n You can enjoy the best Italian pizzas at The Dominos. \\n You can beat the heat by enjoying juice at Awadh juice centre.\")\n",
        "  elif prediction[0] == 2:\n",
        "    print(\"You can stay at the ITC Mughal Resort for your entire trip. \\n You can have a look at the Taj Museum. \\n You must visit the Taj Mahal - one of the 7 wonders of the world. \\n You can then spend some quality time at The Taj Mahal Garden. \")\n",
        "  elif prediction[0] == 3:\n",
        "    print(\"You can stay at The Landmark hotel duing your stay at Kanpur. \\n You can visit the famous Allen Forest Zoo. \\n After that you can do some quality shopping at the Z-square mall.\\n Kanpur is a good destination to enjoy your night life. You can have a drink at the 50ml bar and lounge.\")\n",
        "elif district == 4:\n",
        "  if prediction[0] == 0 :\n",
        "    print(\" As soon as you land you can check in The Taj Palace at Delhi.\\n You can enjoy facilities like gyms, swimming pool and spa available at your hotel.\\n You can then visit the Sacred Heart Cathedral church. \\n You can try the Chicken Florentine at the Ricos Cafe. In the evening, you can a have a visit to The Lodhi Garden.\")\n",
        "  elif prediction[0] == 1 :\n",
        "    print(\"Once you land in Delhi, you can check in at The Taj Palace.\\n You can have a visit to the famous National Gallery of modern Art.\\n You can enjoy the best Italian pizzas at La Piazza. \\n You can beat the heat by enjoying juice at Crudo the juicery.\")\n",
        "  elif prediction[0] == 2:\n",
        "    print(\"You can stay at the City Park Resort for your entire trip. \\n You can have a look at the famous National Museum. \\n You can then spend some quality time at The Lodi Garden and The Deer Park. \\n Dont forget to visit the Quatab Minar and the India Gate\")\n",
        "  elif prediction[0] == 3:\n",
        "    print(\"You can stay at Ibis New Delhi duing your stay at Delhi. \\n You can visit the famous National Zoological Park. \\n After that you can do some quality shopping at the Select City Walk mall.\\n Delhi is an excellent destination to enjoy your night life. You can have a drink at the Kitty Su bar.\")\n",
        "else :\n",
        "  if prediction[0] == 0 :\n",
        "    print(\" As soon as you land you can check in The Alsisar Haveli at Rajasthan.\\n You can enjoy facilities like gyms, swimming pool and spa available at your hotel.\\n You can then visit the St. Xavier's church. \\n You can try the White Sauce Pasta at The Stag Restro Cafe. In the evening, you can a have a visit to The Mandore Garden.\")\n",
        "  elif prediction[0] == 1 :\n",
        "    print(\"Once you land in Rajasthan, you can check in at The Alsisar Haveli Hotel.\\n You can have a visit to the famous Gallery ArtChill.\\n You can enjoy the best Italian pizzas at Little Italy Pizzera. \\n You can beat the heat by enjoying juice at the Juice Corner.\")\n",
        "  elif prediction[0] == 2:\n",
        "    print(\"You can stay at the FairMont Resort for your entire trip. \\n You can have a look at the Albert Hall museum. \\n You can then spend some quality time at The Kanak Vrindhavan Park. \\n You must visit the Amer Fort too\")\n",
        "  elif prediction[0] == 3:\n",
        "    print(\"You can stay at Al Shifa residency duing your stay at Rajasthan. \\n You can visit the famous Jaipur Zoo. \\n After that you can do some quality shopping at the Pink Square mall.\\n Jaipur is a good destination to enjoy your night life. You can have a drink at the Blackout club and bar.\")\n"
      ],
      "metadata": {
        "id": "IHIGflcXZc__"
      },
      "execution_count": null,
      "outputs": []
    }
  ]
}